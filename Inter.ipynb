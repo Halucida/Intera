{
  "nbformat": 4,
  "nbformat_minor": 0,
  "metadata": {
    "colab": {
      "provenance": [],
      "gpuType": "T4",
      "authorship_tag": "ABX9TyPG/wMwr/syzt861Q0Cz6YM"
    },
    "kernelspec": {
      "name": "python3",
      "display_name": "Python 3"
    },
    "language_info": {
      "name": "python"
    },
    "accelerator": "GPU"
  },
  "cells": [
    {
      "cell_type": "code",
      "execution_count": null,
      "metadata": {
        "id": "W4XD4w_o9ZQh"
      },
      "outputs": [],
      "source": [
        "import tensorflow as tf\n",
        "\n",
        "from tensorflow.keras.utils import get_file, image_dataset_from_directory"
      ]
    },
    {
      "cell_type": "markdown",
      "source": [
        "### ```Hallo```"
      ],
      "metadata": {
        "id": "N9T3n9sd9-Y3"
      }
    },
    {
      "cell_type": "code",
      "source": [
        "orifile = \"https://github.com/dicodingacademy/assets/releases/download/release/rockpaperscissors.zip\"\n",
        "\n",
        "extract = !False\n",
        "\n",
        "get_file(origin=orifile, cache_dir=\"/tmp\", extract=extract)"
      ],
      "metadata": {
        "id": "kzVe6Hr5CZaF"
      },
      "execution_count": null,
      "outputs": []
    },
    {
      "cell_type": "code",
      "source": [
        "base_dir = \"/tmp/datasets/rockpaperscissors/rps-cv-images\"\n",
        "\n",
        "batch_size = 128; image_size = (150, 150); validation_split = 0.3; seed = 404\n",
        "\n",
        "(train, testi) = image_dataset_from_directory(\n",
        "    base_dir,\n",
        "    batch_size=batch_size,\n",
        "    image_size=image_size,\n",
        "    subset=\"both\", seed=seed,\n",
        "    validation_split=validation_split,\n",
        "    interpolation=\"nearest\"\n",
        ")\n",
        "\n",
        "output_node = len(train.class_names)"
      ],
      "metadata": {
        "id": "ShjBrMg6CbPQ"
      },
      "execution_count": null,
      "outputs": []
    },
    {
      "cell_type": "code",
      "source": [
        "def relayer(image, label):\n",
        "    image = tf.cast(image, tf.float32)\n",
        "    image = tf.math.divide(image, 255.0)\n",
        "    return image, label\n",
        "\n",
        "train = train.map(relayer).shuffle(100).cache()\n",
        "\n",
        "testi = testi.map(relayer)"
      ],
      "metadata": {
        "id": "XIOJSXLbCdau"
      },
      "execution_count": null,
      "outputs": []
    },
    {
      "cell_type": "markdown",
      "source": [
        "### ```Model```"
      ],
      "metadata": {
        "id": "zH4JGbV493VB"
      }
    },
    {
      "cell_type": "code",
      "source": [
        "import tensorflow as tf\n",
        "\n",
        "from tensorflow.keras import layers, Model\n",
        "\n",
        "from Inter import Modelin, Modeler\n",
        "\n",
        "model_one = Modelin()\n",
        "\n",
        "train = train.map(lambda i, l : (model_one(i), l))\n",
        "testi = testi.map(lambda i, l : (model_one(i), l))"
      ],
      "metadata": {
        "id": "1qjFRzVKBisn"
      },
      "execution_count": null,
      "outputs": []
    },
    {
      "cell_type": "code",
      "source": [
        "model = Modeler(output_node)\n",
        "\n",
        "model.compile(optimizer=\"adam\", loss=\"sparse_categorical_crossentropy\", metrics=[\"accuracy\"])\n",
        "\n",
        "hist = model.fit(train, epochs=8, verbose=1, validation_data=testi)"
      ],
      "metadata": {
        "id": "Mpoc6aSRCVfq"
      },
      "execution_count": null,
      "outputs": []
    },
    {
      "cell_type": "markdown",
      "source": [
        "### ```Hasil```"
      ],
      "metadata": {
        "id": "SZwi-dft96DJ"
      }
    },
    {
      "cell_type": "code",
      "source": [
        "model.evaluate(train, verbose=0)"
      ],
      "metadata": {
        "colab": {
          "base_uri": "https://localhost:8080/"
        },
        "id": "BYt0ypQhCi38",
        "outputId": "470488d8-7cd9-4fb6-cf2b-779c4d8158a9"
      },
      "execution_count": null,
      "outputs": [
        {
          "output_type": "execute_result",
          "data": {
            "text/plain": [
              "[0.22149191796779633, 0.9379895329475403]"
            ]
          },
          "metadata": {},
          "execution_count": 7
        }
      ]
    },
    {
      "cell_type": "code",
      "source": [
        "model.evaluate(testi, verbose=0)"
      ],
      "metadata": {
        "colab": {
          "base_uri": "https://localhost:8080/"
        },
        "id": "J29ma9ccCouU",
        "outputId": "d92059cf-d17b-4003-dcd4-8596d846d455"
      },
      "execution_count": null,
      "outputs": [
        {
          "output_type": "execute_result",
          "data": {
            "text/plain": [
              "[0.2092522382736206, 0.9390243887901306]"
            ]
          },
          "metadata": {},
          "execution_count": 8
        }
      ]
    },
    {
      "cell_type": "code",
      "source": [
        "from Histplot import Histplot\n",
        "\n",
        "image_hist = Histplot(hist, hist_acc=\"accuracy\")\n",
        "\n",
        "image_hist.Trainplot()"
      ],
      "metadata": {
        "id": "L0deTAM7Cu-Z",
        "colab": {
          "base_uri": "https://localhost:8080/",
          "height": 528
        },
        "outputId": "0d850d20-852e-4933-b1bc-597455919161"
      },
      "execution_count": null,
      "outputs": [
        {
          "output_type": "display_data",
          "data": {
            "text/plain": [
              "<Figure size 1000x500 with 2 Axes>"
            ],
            "image/png": "[encoded data removed]"
          },
          "metadata": {}
        }
      ]
    },
    {
      "cell_type": "code",
      "source": [
        "image_hist.Testiplot()"
      ],
      "metadata": {
        "id": "qNgMOGwIF83E",
        "colab": {
          "base_uri": "https://localhost:8080/",
          "height": 528
        },
        "outputId": "87e96ed6-e764-4edc-967a-c5e2a5d8c390"
      },
      "execution_count": null,
      "outputs": [
        {
          "output_type": "display_data",
          "data": {
            "text/plain": [
              "<Figure size 1000x500 with 2 Axes>"
            ],
            "image/png": "[encoded data removed]"
          },
          "metadata": {}
        }
      ]
    },
    {
      "cell_type": "code",
      "source": [
        "!apt-get install tensorflow-model-server"
      ],
      "metadata": {
        "id": "InVsbbF4GHJZ"
      },
      "execution_count": null,
      "outputs": []
    },
    {
      "cell_type": "code",
      "source": [
        "import os\n",
        "\n",
        "model_folder = \"/tmp/model\"\n",
        "\n",
        "os.mkdir(model_folder)"
      ],
      "metadata": {
        "id": "-hZkeV4Ee8yH"
      },
      "execution_count": null,
      "outputs": []
    },
    {
      "cell_type": "code",
      "source": [
        "model_serial = \"1\"\n",
        "\n",
        "model_path = os.path.join(model_folder, model_serial)\n",
        "\n",
        "tf.saved_model.save(model, model_path)"
      ],
      "metadata": {
        "id": "epAL5NG5gOpX"
      },
      "execution_count": null,
      "outputs": []
    },
    {
      "cell_type": "code",
      "source": [
        "os.environ[\"ModelFolder\"] = model_folder"
      ],
      "metadata": {
        "id": "lqClvafqgVPh"
      },
      "execution_count": null,
      "outputs": []
    },
    {
      "cell_type": "code",
      "source": [
        "%%bash --bg\n",
        "nohup tensorflow_model_server \\\n",
        "  --rest_api_port=8501 \\\n",
        "  --model_name=inter_model \\\n",
        "  --model_base_path=\"${ModelFolder}\""
      ],
      "metadata": {
        "id": "OXjYS3dVggIp"
      },
      "execution_count": null,
      "outputs": []
    },
    {
      "cell_type": "code",
      "source": [
        "!tail server.log"
      ],
      "metadata": {
        "id": "y8szF5JAhRv3"
      },
      "execution_count": null,
      "outputs": []
    },
    {
      "cell_type": "code",
      "source": [
        "import json, requests\n",
        "\n",
        "test_img, test_label = next(iter(testi))\n",
        "\n",
        "test_img = test_img.numpy().tolist()\n",
        "\n",
        "url = \"http://127.0.0.1:8501/v1/models/inter_model:predict\""
      ],
      "metadata": {
        "id": "GDPJ3GIEhV7M"
      },
      "execution_count": null,
      "outputs": []
    },
    {
      "cell_type": "code",
      "source": [
        "from Hela import Modeler\n",
        "\n",
        "Modeler(test_img, url, output=\"max\")"
      ],
      "metadata": {
        "colab": {
          "base_uri": "https://localhost:8080/"
        },
        "id": "ku7pQQ0FhZEU",
        "outputId": "6d6d03a3-c115-4cd7-a56b-7d53d04e1c16"
      },
      "execution_count": null,
      "outputs": [
        {
          "output_type": "execute_result",
          "data": {
            "text/plain": [
              "array([2, 2, 2, 0, 0, 2, 0, 0, 0, 2, 1, 0, 0, 1, 0, 1, 0, 1, 1, 0, 1, 1,\n",
              "       2, 2, 2, 2, 1, 1, 2, 0, 2, 0, 1, 1, 1, 1, 1, 1, 0, 2, 2, 1, 1, 2,\n",
              "       1, 2, 1, 1, 1, 0, 0, 1, 0, 2, 2, 0, 2, 1, 0, 1, 1, 2, 2, 0, 0, 1,\n",
              "       2, 0, 0, 0, 1, 2, 1, 2, 0, 0, 2, 2, 0, 1, 0, 0, 1, 1, 2, 2, 1, 0,\n",
              "       0, 2, 2, 0, 2, 1, 2, 1, 0, 1, 2, 1, 0, 1, 1, 0, 1, 1, 0, 1, 2, 1,\n",
              "       0, 1, 2, 1, 2, 1, 2, 0, 2, 2, 2, 1, 1, 0, 0, 2, 2, 1])"
            ]
          },
          "metadata": {},
          "execution_count": 18
        }
      ]
    },
    {
      "cell_type": "code",
      "source": [
        "logits = Modeler(test_img, url, output=\"original\")\n",
        "\n",
        "loss_fn = tf.keras.losses.SparseCategoricalCrossentropy()\n",
        "\n",
        "loss_i = loss_fn(test_label, logits)\n",
        "\n",
        "loss_i.numpy()"
      ],
      "metadata": {
        "colab": {
          "base_uri": "https://localhost:8080/"
        },
        "id": "6W0ONzwNhqbz",
        "outputId": "9fc95f73-4195-4543-ab75-f16c031b039f"
      },
      "execution_count": null,
      "outputs": [
        {
          "output_type": "execute_result",
          "data": {
            "text/plain": [
              "0.25049207"
            ]
          },
          "metadata": {},
          "execution_count": 19
        }
      ]
    },
    {
      "cell_type": "markdown",
      "source": [
        "### ```Optional```\n"
      ],
      "metadata": {
        "id": "ZZFhMe4A9eBW"
      }
    },
    {
      "cell_type": "code",
      "source": [
        "api_path = \"/modelapi\"\n",
        "\n",
        "os.mkdir(api_path)\n",
        "\n",
        "model.save(\"/modelapi\", save_format=\"tf\")"
      ],
      "metadata": {
        "id": "rbVcxtGv9l0c"
      },
      "execution_count": null,
      "outputs": []
    },
    {
      "cell_type": "code",
      "source": [
        "modelapi = tf.keras.models.load_model(\"/modelapi\")\n",
        "\n",
        "modelapi.evaluate(testi, verbose=0)"
      ],
      "metadata": {
        "id": "UYpe9NkY-xA3",
        "colab": {
          "base_uri": "https://localhost:8080/"
        },
        "outputId": "9c8a250d-2c6f-4d03-d268-e1ed9f223c32"
      },
      "execution_count": null,
      "outputs": [
        {
          "output_type": "execute_result",
          "data": {
            "text/plain": [
              "[0.2180914282798767, 0.9314024448394775]"
            ]
          },
          "metadata": {},
          "execution_count": 21
        }
      ]
    },
    {
      "cell_type": "code",
      "source": [
        "from tensorflow.keras.preprocessing import image\n",
        "\n",
        "image_t = \"/tmp/datasets/rockpaperscissors/paper/04l5I8TqdzF9WDMJ.png\"\n",
        "\n",
        "img = image.load_img(image_t, target_size=(150, 150))\n",
        "\n",
        "rimg = image.img_to_array(img)\n",
        "\n",
        "rimg.shape"
      ],
      "metadata": {
        "id": "kL668x3Gw6LU",
        "outputId": "c41dcbd7-5e16-44cd-bff9-efc2053b8fd7",
        "colab": {
          "base_uri": "https://localhost:8080/"
        }
      },
      "execution_count": null,
      "outputs": [
        {
          "output_type": "execute_result",
          "data": {
            "text/plain": [
              "(150, 150, 3)"
            ]
          },
          "metadata": {},
          "execution_count": 22
        }
      ]
    },
    {
      "cell_type": "code",
      "source": [
        "timg = tf.expand_dims(rimg, axis=0)\n",
        "\n",
        "modelapi.predict(timg, verbose=0)"
      ],
      "metadata": {
        "id": "PV6brHUDxf3U",
        "outputId": "29d0b611-49c8-416d-c645-84b44eff5424",
        "colab": {
          "base_uri": "https://localhost:8080/"
        }
      },
      "execution_count": null,
      "outputs": [
        {
          "output_type": "execute_result",
          "data": {
            "text/plain": [
              "array([[1., 0., 0.]], dtype=float32)"
            ]
          },
          "metadata": {},
          "execution_count": 23
        }
      ]
    },
    {
      "cell_type": "code",
      "source": [
        "def helper(image_path : str):\n",
        "  load_image  = image.load_img(image_path, target_size=(150, 150))\n",
        "  image_array = image.img_to_array(load_image)\n",
        "  img = tf.expand_dims(image_array, axis=0)\n",
        "  result = modelapi.predict(img, verbose=0)\n",
        "  return result\n",
        "\n",
        "helper(image_t)"
      ],
      "metadata": {
        "id": "qSMh7PWAjjBq",
        "outputId": "56c22e9b-6630-4066-83a7-c7f07e402ee0",
        "colab": {
          "base_uri": "https://localhost:8080/"
        }
      },
      "execution_count": null,
      "outputs": [
        {
          "output_type": "execute_result",
          "data": {
            "text/plain": [
              "array([[1., 0., 0.]], dtype=float32)"
            ]
          },
          "metadata": {},
          "execution_count": 24
        }
      ]
    }
  ]
}